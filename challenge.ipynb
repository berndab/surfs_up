{
 "cells": [
  {
   "cell_type": "code",
   "execution_count": 1,
   "metadata": {},
   "outputs": [],
   "source": [
    "import pandas as pd\n",
    "import matplotlib.pyplot as plt\n",
    "# sqlalchemy SQL tools and object relational mapper\n",
    "import sqlalchemy\n",
    "from sqlalchemy.ext.automap import automap_base\n",
    "from sqlalchemy.orm import Session\n",
    "from sqlalchemy import create_engine, func, distinct"
   ]
  },
  {
   "cell_type": "code",
   "execution_count": 2,
   "metadata": {},
   "outputs": [],
   "source": [
    "# Create engine\n",
    "engine = create_engine(\"sqlite:///hawaii.sqlite\")"
   ]
  },
  {
   "cell_type": "code",
   "execution_count": 3,
   "metadata": {},
   "outputs": [],
   "source": [
    "# Reflect an existing database into a new model\n",
    "Base = automap_base()"
   ]
  },
  {
   "cell_type": "code",
   "execution_count": 4,
   "metadata": {},
   "outputs": [],
   "source": [
    "# Reflect the tables\n",
    "Base.prepare(engine, reflect=True)"
   ]
  },
  {
   "cell_type": "code",
   "execution_count": 5,
   "metadata": {},
   "outputs": [
    {
     "data": {
      "text/plain": [
       "['measurement', 'station']"
      ]
     },
     "execution_count": 5,
     "metadata": {},
     "output_type": "execute_result"
    }
   ],
   "source": [
    "# View classes that automap found\n",
    "Base.classes.keys()"
   ]
  },
  {
   "cell_type": "code",
   "execution_count": 6,
   "metadata": {},
   "outputs": [],
   "source": [
    "# Save references to each table\n",
    "Measurement = Base.classes.measurement\n",
    "Station     = Base.classes.station"
   ]
  },
  {
   "cell_type": "code",
   "execution_count": 7,
   "metadata": {},
   "outputs": [],
   "source": [
    "# Create our session (link) from Python to the DB\n",
    "session = Session(engine)"
   ]
  },
  {
   "cell_type": "code",
   "execution_count": 8,
   "metadata": {},
   "outputs": [],
   "source": [
    "# Perform a query to retrieve the june weather data for all years\n",
    "june_all_years_tobs_results = []\n",
    "june_all_years_tobs_results = session.query(Measurement.date, Measurement.tobs).filter(func.extract('month', Measurement.date) == 6).all()\n",
    "june_all_years_tobs_df = pd.DataFrame(june_all_years_tobs_results, columns=['date','tobs'])"
   ]
  },
  {
   "cell_type": "code",
   "execution_count": 9,
   "metadata": {},
   "outputs": [
    {
     "data": {
      "text/html": [
       "<div>\n",
       "<style scoped>\n",
       "    .dataframe tbody tr th:only-of-type {\n",
       "        vertical-align: middle;\n",
       "    }\n",
       "\n",
       "    .dataframe tbody tr th {\n",
       "        vertical-align: top;\n",
       "    }\n",
       "\n",
       "    .dataframe thead th {\n",
       "        text-align: right;\n",
       "    }\n",
       "</style>\n",
       "<table border=\"1\" class=\"dataframe\">\n",
       "  <thead>\n",
       "    <tr style=\"text-align: right;\">\n",
       "      <th></th>\n",
       "      <th>tobs</th>\n",
       "    </tr>\n",
       "  </thead>\n",
       "  <tbody>\n",
       "    <tr>\n",
       "      <th>count</th>\n",
       "      <td>1700.000000</td>\n",
       "    </tr>\n",
       "    <tr>\n",
       "      <th>mean</th>\n",
       "      <td>74.944118</td>\n",
       "    </tr>\n",
       "    <tr>\n",
       "      <th>std</th>\n",
       "      <td>3.257417</td>\n",
       "    </tr>\n",
       "    <tr>\n",
       "      <th>min</th>\n",
       "      <td>64.000000</td>\n",
       "    </tr>\n",
       "    <tr>\n",
       "      <th>25%</th>\n",
       "      <td>73.000000</td>\n",
       "    </tr>\n",
       "    <tr>\n",
       "      <th>50%</th>\n",
       "      <td>75.000000</td>\n",
       "    </tr>\n",
       "    <tr>\n",
       "      <th>75%</th>\n",
       "      <td>77.000000</td>\n",
       "    </tr>\n",
       "    <tr>\n",
       "      <th>max</th>\n",
       "      <td>85.000000</td>\n",
       "    </tr>\n",
       "  </tbody>\n",
       "</table>\n",
       "</div>"
      ],
      "text/plain": [
       "              tobs\n",
       "count  1700.000000\n",
       "mean     74.944118\n",
       "std       3.257417\n",
       "min      64.000000\n",
       "25%      73.000000\n",
       "50%      75.000000\n",
       "75%      77.000000\n",
       "max      85.000000"
      ]
     },
     "execution_count": 9,
     "metadata": {},
     "output_type": "execute_result"
    }
   ],
   "source": [
    "# Get statistics for june weather data all years\n",
    "june_all_years_tobs_df.describe()"
   ]
  },
  {
   "cell_type": "code",
   "execution_count": 29,
   "metadata": {},
   "outputs": [
    {
     "data": {
      "image/png": "[encoded data removed]",
      "text/plain": [
       "<Figure size 432x288 with 1 Axes>"
      ]
     },
     "metadata": {
      "needs_background": "light"
     },
     "output_type": "display_data"
    }
   ],
   "source": [
    "# Generate boxplot for June weather data all years\n",
    "fig1, ax = plt.subplots()\n",
    "ax.set_title('June Daily Temperature')\n",
    "ax.boxplot(june_all_years_tobs_df[\"tobs\"])\n",
    "ax.grid()\n",
    "plt.savefig(\"june_daily_temp_all_years_boxplot.png\")"
   ]
  },
  {
   "cell_type": "code",
   "execution_count": 11,
   "metadata": {},
   "outputs": [],
   "source": [
    "# Generate day of the month field\n",
    "june_all_years_tobs_df[\"day_of_month\"] = pd.to_datetime(june_all_years_tobs_df[\"date\"]).dt.day"
   ]
  },
  {
   "cell_type": "code",
   "execution_count": 12,
   "metadata": {},
   "outputs": [],
   "source": [
    "# plot mean temperature per day of month all years\n",
    "june_all_years_tobs_daily_avg_df = june_all_years_tobs_df[[\"day_of_month\",\"tobs\"]].groupby([\"day_of_month\"]).mean()\n",
    "june_all_years_tobs_daily_avg_df.reset_index(inplace=True)"
   ]
  },
  {
   "cell_type": "code",
   "execution_count": 13,
   "metadata": {},
   "outputs": [
    {
     "data": {
      "image/png": "[encoded data removed]",
      "text/plain": [
       "<Figure size 432x288 with 1 Axes>"
      ]
     },
     "metadata": {
      "needs_background": "light"
     },
     "output_type": "display_data"
    }
   ],
   "source": [
    "# Generate June average daily temperature all years\n",
    "fig, ax = plt.subplots()\n",
    "plt.xlabel(\"Days Of Month\")\n",
    "plt.ylabel(\"Average Temperature\")\n",
    "plt.title(\"June Average Daily Temperature\")\n",
    "ax.plot(june_all_years_tobs_daily_avg_df['day_of_month'], june_all_years_tobs_daily_avg_df['tobs'])\n",
    "plt.savefig(\"june_avg_daily_temp_all_years.png\")"
   ]
  },
  {
   "cell_type": "code",
   "execution_count": 14,
   "metadata": {},
   "outputs": [],
   "source": [
    "# Get temperature measurement by station by date all years\n",
    "june_all_years_tobs_per_stat_results = []\n",
    "june_all_years_tobs_per_stat_results = session.query(Measurement.station, Measurement.date, Measurement.tobs).filter(func.extract('month', Measurement.date) == 6).all()\n",
    "june_all_years_tobs_per_stat_df = pd.DataFrame(june_all_years_tobs_per_stat_results, columns=['station','date','tobs'])"
   ]
  },
  {
   "cell_type": "code",
   "execution_count": 15,
   "metadata": {},
   "outputs": [],
   "source": [
    "# Get count temperature measurement by station by date all years\n",
    "june_all_years_tobs_per_stat_day_count = june_all_years_tobs_per_stat_df.groupby(['date', 'station'])[\"tobs\"].count()"
   ]
  },
  {
   "cell_type": "code",
   "execution_count": 16,
   "metadata": {},
   "outputs": [
    {
     "data": {
      "text/plain": [
       "Series([], Name: tobs, dtype: int64)"
      ]
     },
     "execution_count": 16,
     "metadata": {},
     "output_type": "execute_result"
    }
   ],
   "source": [
    "# Identify stations with more then one measurement per day\n",
    "june_all_years_tobs_per_stat_day_count.loc[(june_all_years_tobs_per_stat_day_count > 1)]"
   ]
  },
  {
   "cell_type": "code",
   "execution_count": 17,
   "metadata": {},
   "outputs": [],
   "source": [
    "# Perform a query to retrieve the december weather data for all years\n",
    "december_all_years_tobs_results = []\n",
    "december_all_years_tobs_results = session.query(Measurement.date, Measurement.tobs).filter(func.extract('month', Measurement.date) == 12).all()\n",
    "december_all_years_tobs_df = pd.DataFrame(december_all_years_tobs_results, columns=['date','tobs'])"
   ]
  },
  {
   "cell_type": "code",
   "execution_count": 18,
   "metadata": {},
   "outputs": [
    {
     "data": {
      "text/html": [
       "<div>\n",
       "<style scoped>\n",
       "    .dataframe tbody tr th:only-of-type {\n",
       "        vertical-align: middle;\n",
       "    }\n",
       "\n",
       "    .dataframe tbody tr th {\n",
       "        vertical-align: top;\n",
       "    }\n",
       "\n",
       "    .dataframe thead th {\n",
       "        text-align: right;\n",
       "    }\n",
       "</style>\n",
       "<table border=\"1\" class=\"dataframe\">\n",
       "  <thead>\n",
       "    <tr style=\"text-align: right;\">\n",
       "      <th></th>\n",
       "      <th>tobs</th>\n",
       "    </tr>\n",
       "  </thead>\n",
       "  <tbody>\n",
       "    <tr>\n",
       "      <th>count</th>\n",
       "      <td>1517.000000</td>\n",
       "    </tr>\n",
       "    <tr>\n",
       "      <th>mean</th>\n",
       "      <td>71.041529</td>\n",
       "    </tr>\n",
       "    <tr>\n",
       "      <th>std</th>\n",
       "      <td>3.745920</td>\n",
       "    </tr>\n",
       "    <tr>\n",
       "      <th>min</th>\n",
       "      <td>56.000000</td>\n",
       "    </tr>\n",
       "    <tr>\n",
       "      <th>25%</th>\n",
       "      <td>69.000000</td>\n",
       "    </tr>\n",
       "    <tr>\n",
       "      <th>50%</th>\n",
       "      <td>71.000000</td>\n",
       "    </tr>\n",
       "    <tr>\n",
       "      <th>75%</th>\n",
       "      <td>74.000000</td>\n",
       "    </tr>\n",
       "    <tr>\n",
       "      <th>max</th>\n",
       "      <td>83.000000</td>\n",
       "    </tr>\n",
       "  </tbody>\n",
       "</table>\n",
       "</div>"
      ],
      "text/plain": [
       "              tobs\n",
       "count  1517.000000\n",
       "mean     71.041529\n",
       "std       3.745920\n",
       "min      56.000000\n",
       "25%      69.000000\n",
       "50%      71.000000\n",
       "75%      74.000000\n",
       "max      83.000000"
      ]
     },
     "execution_count": 18,
     "metadata": {},
     "output_type": "execute_result"
    }
   ],
   "source": [
    "december_all_years_tobs_df.describe()"
   ]
  },
  {
   "cell_type": "code",
   "execution_count": 28,
   "metadata": {},
   "outputs": [
    {
     "data": {
      "image/png": "[encoded data removed]",
      "text/plain": [
       "<Figure size 432x288 with 1 Axes>"
      ]
     },
     "metadata": {
      "needs_background": "light"
     },
     "output_type": "display_data"
    }
   ],
   "source": [
    "# Generate boxplot for December weather data all years\n",
    "fig1, ax = plt.subplots()\n",
    "ax.set_title('December Daily Temperature')\n",
    "ax.boxplot(december_all_years_tobs_df[\"tobs\"])\n",
    "ax.grid()\n",
    "plt.savefig(\"december_daily_temp_all_years_boxplot.png\")"
   ]
  },
  {
   "cell_type": "code",
   "execution_count": 20,
   "metadata": {},
   "outputs": [],
   "source": [
    "december_all_years_tobs_df[\"day_of_month\"] = pd.to_datetime(december_all_years_tobs_df[\"date\"]).dt.day"
   ]
  },
  {
   "cell_type": "code",
   "execution_count": 21,
   "metadata": {},
   "outputs": [],
   "source": [
    "december_all_years_tobs_daily_avg_df = december_all_years_tobs_df[[\"day_of_month\",\"tobs\"]].groupby([\"day_of_month\"]).mean()\n",
    "december_all_years_tobs_daily_avg_df.reset_index(inplace=True)"
   ]
  },
  {
   "cell_type": "code",
   "execution_count": 22,
   "metadata": {},
   "outputs": [
    {
     "data": {
      "image/png": "[encoded data removed]",
      "text/plain": [
       "<Figure size 432x288 with 1 Axes>"
      ]
     },
     "metadata": {
      "needs_background": "light"
     },
     "output_type": "display_data"
    }
   ],
   "source": [
    "# Generate June average daily temperature all years\n",
    "fig, ax = plt.subplots()\n",
    "plt.xlabel(\"Days Of Month\")\n",
    "plt.ylabel(\"Average Temperature\")\n",
    "plt.title(\"December Average Daily Temperature\")\n",
    "ax.plot(december_all_years_tobs_daily_avg_df['day_of_month'], december_all_years_tobs_daily_avg_df['tobs'])\n",
    "plt.savefig(\"december_avg_daily_temp_all_years.png\")"
   ]
  },
  {
   "cell_type": "code",
   "execution_count": 23,
   "metadata": {},
   "outputs": [],
   "source": [
    "# Get temperature measurement by station by date all years\n",
    "dec_all_years_tobs_per_stat_results = []\n",
    "dec_all_years_tobs_per_stat_results = session.query(Measurement.station, Measurement.date, Measurement.tobs).filter(func.extract('month', Measurement.date) == 12).all()\n",
    "dec_all_years_tobs_per_stat_df = pd.DataFrame(dec_all_years_tobs_per_stat_results, columns=['station','date','tobs'])"
   ]
  },
  {
   "cell_type": "code",
   "execution_count": 24,
   "metadata": {},
   "outputs": [],
   "source": [
    "# Get count temperature measurement by station by date all years\n",
    "dec_all_years_tobs_per_stat_day_count = dec_all_years_tobs_per_stat_df.groupby(['date', 'station'])[\"tobs\"].count()"
   ]
  },
  {
   "cell_type": "code",
   "execution_count": 25,
   "metadata": {},
   "outputs": [
    {
     "data": {
      "text/plain": [
       "Series([], Name: tobs, dtype: int64)"
      ]
     },
     "execution_count": 25,
     "metadata": {},
     "output_type": "execute_result"
    }
   ],
   "source": [
    "# Identify stations with more then one measurement per day\n",
    "dec_all_years_tobs_per_stat_day_count.loc[(dec_all_years_tobs_per_stat_day_count > 1)]"
   ]
  },
  {
   "cell_type": "code",
   "execution_count": 27,
   "metadata": {},
   "outputs": [
    {
     "data": {
      "text/plain": [
       "[(9)]"
      ]
     },
     "execution_count": 27,
     "metadata": {},
     "output_type": "execute_result"
    }
   ],
   "source": [
    "# Get distinct count of weather stations\n",
    "station_distinct_count_results = []\n",
    "station_distinct_count_results = session.query(func.count(distinct(Measurement.station)))\n",
    "station_distinct_count_results.all() "
   ]
  },
  {
   "cell_type": "code",
   "execution_count": null,
   "metadata": {},
   "outputs": [],
   "source": []
  }
 ],
 "metadata": {
  "kernelspec": {
   "display_name": "PythonData",
   "language": "python",
   "name": "pythondata"
  },
  "language_info": {
   "codemirror_mode": {
    "name": "ipython",
    "version": 3
   },
   "file_extension": ".py",
   "mimetype": "text/x-python",
   "name": "python",
   "nbconvert_exporter": "python",
   "pygments_lexer": "ipython3",
   "version": "3.7.7"
  }
 },
 "nbformat": 4,
 "nbformat_minor": 4
}
